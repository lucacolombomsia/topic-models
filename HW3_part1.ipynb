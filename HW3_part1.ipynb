{
 "cells": [
  {
   "cell_type": "code",
   "execution_count": 1,
   "metadata": {},
   "outputs": [],
   "source": [
    "from nltk.tokenize import word_tokenize\n",
    "import seaborn as sns\n",
    "import matplotlib.pyplot as plt\n",
    "import numpy as np"
   ]
  },
  {
   "cell_type": "code",
   "execution_count": 2,
   "metadata": {},
   "outputs": [],
   "source": [
    "def read_files(path):\n",
    "    #function to read the corpus into a list of strings\n",
    "    with open(path, 'rb') as file:\n",
    "        data = file.read().decode('utf8', 'surrogateescape')\n",
    "        data = data.splitlines()\n",
    "    return data"
   ]
  },
  {
   "cell_type": "code",
   "execution_count": 3,
   "metadata": {},
   "outputs": [
    {
     "name": "stdout",
     "output_type": "stream",
     "text": [
      "25000\n"
     ]
    }
   ],
   "source": [
    "#load the RateMD corpus in memory\n",
    "text_list = read_files('ratemd.25k.all.txt')\n",
    "print(len(text_list))"
   ]
  },
  {
   "cell_type": "code",
   "execution_count": 4,
   "metadata": {},
   "outputs": [],
   "source": [
    "#we have 25k rows of text\n",
    "#one doctor can be associated to multiple reviews\n",
    "#want to turn text_list into a list of tuples called dr_list\n",
    "#the first element in the tuple contains all doctor metadata\n",
    "#the second element in the tuple contains the review (numeric and text)\n",
    "#there are many other potential approaches to this problem\n",
    "#the advantage of this approach is that the list of tuples that we obtain has always the same structure\n",
    "#any tuple in dr_list has two elements, which are two lists\n",
    "#the first has length 4 and has the following info (in this order): Dr’s Name; Gender; Location; Specialization\n",
    "#the second has length 2 and has the following info (in this order): Overall rating; Review text\n",
    "#we can loop through dr_list and use indices to access the information we are interested in\n",
    "#for example dr_list[10][0][1] is the gender of the doctor associated to the 11th review\n",
    "#and dr_list[10][1][0] is the numeric rating from the 11th review\n",
    "dr_list = []\n",
    "for x in text_list:\n",
    "    temp = x.split('\\t')\n",
    "    temp = [one_str.strip() for one_str in temp]\n",
    "    if len(temp) == 4:\n",
    "        key = temp\n",
    "    if len(temp) == 2:\n",
    "        value = temp\n",
    "        dr_list.append((key, value))"
   ]
  },
  {
   "cell_type": "markdown",
   "metadata": {},
   "source": [
    "### Problem 1: sentiment analysis of reviews by gender"
   ]
  },
  {
   "cell_type": "code",
   "execution_count": 5,
   "metadata": {},
   "outputs": [
    {
     "name": "stdout",
     "output_type": "stream",
     "text": [
      "Total reviews: 20421\n",
      "\n",
      "Total reviews - Male: 15615\n",
      "Total reviews - Female: 4806\n",
      "Percentage reviews - Male: 76.5%\n",
      "Percentage reviews - Female: 23.5%\n",
      "\n",
      "Total positive reviews - Male: 10616\n",
      "Total positive reviews - Female: 2953\n",
      "Total positive reviews: 13569\n",
      "Percentage positive reviews - Male: 68.0%\n",
      "Percentage positive reviews - Female: 61.4%\n",
      "Percentage positive reviews: 66.4%\n"
     ]
    }
   ],
   "source": [
    "#create a dictionary with two keys, Female and Male\n",
    "#the values associated to these keys will be lists with all\n",
    "#ratings given to female and male doctors respectively\n",
    "review_dict = {'Female' : [], 'Male' : []}\n",
    "for x in dr_list:\n",
    "    key = x[0][1]\n",
    "    value = float(x[1][0].replace('Overall rating: ', ''))\n",
    "    review_dict[key] = review_dict[key] + [value]\n",
    "    \n",
    "#total count of reviews by gender and overall\n",
    "count_m_review = len(review_dict['Male'])\n",
    "count_f_review = len(review_dict['Female'])\n",
    "count_review = count_m_review + count_f_review\n",
    "\n",
    "#count positive reviews for male doctors\n",
    "positive_m_review = 0\n",
    "for x in review_dict['Male']:\n",
    "    if x > 3:\n",
    "        positive_m_review += 1 \n",
    "\n",
    "#count positive reviews for female doctors\n",
    "positive_f_review = 0\n",
    "for x in review_dict['Female']:\n",
    "    if x > 3:\n",
    "        positive_f_review += 1\n",
    "        \n",
    "#count overall positive reviews\n",
    "positive_review = positive_f_review + positive_m_review\n",
    "\n",
    "#turn counts into percentages\n",
    "perc_positive_m = positive_m_review / count_m_review\n",
    "perc_positive_f = positive_f_review / count_f_review\n",
    "perc_positive = positive_review / count_review\n",
    "\n",
    "print('Total reviews: {}'.format(count_review))\n",
    "print('')\n",
    "\n",
    "print('Total reviews - Male: {}'.format(count_m_review))\n",
    "print('Total reviews - Female: {}'.format(count_f_review))\n",
    "print('Percentage reviews - Male: {}%'.format(round(count_m_review/count_review*100, 1)))\n",
    "print('Percentage reviews - Female: {}%'.format(round(count_f_review/count_review*100, 1)))\n",
    "print('')\n",
    "\n",
    "print('Total positive reviews - Male: {}'.format(positive_m_review))\n",
    "print('Total positive reviews - Female: {}'.format(positive_f_review))\n",
    "print('Total positive reviews: {}'.format(positive_review))\n",
    "print('Percentage positive reviews - Male: {}%'.format(round(positive_m_review/count_m_review*100, 1)))\n",
    "print('Percentage positive reviews - Female: {}%'.format(round(positive_f_review/count_f_review*100, 1)))\n",
    "print('Percentage positive reviews: {}%'.format(round(positive_review/count_review*100, 1)))"
   ]
  },
  {
   "cell_type": "markdown",
   "metadata": {},
   "source": [
    "### Problem 1: analysis of review length"
   ]
  },
  {
   "cell_type": "code",
   "execution_count": 6,
   "metadata": {},
   "outputs": [
    {
     "name": "stdout",
     "output_type": "stream",
     "text": [
      "Longest review: 1028 words\n",
      "Shortest review: 0 words\n",
      "Mean review: 70.8 words\n",
      "Median review: 51.0 words\n"
     ]
    },
    {
     "data": {
      "image/png": "[encoded data removed]",
      "text/plain": [
       "<matplotlib.figure.Figure at 0x1a18bbb4e0>"
      ]
     },
     "metadata": {},
     "output_type": "display_data"
    }
   ],
   "source": [
    "#create a list with all review lenghts\n",
    "#review length is defined as the number of words in a review\n",
    "review_len = []\n",
    "for x in dr_list:\n",
    "    review = x[1][1]\n",
    "    num_words = len(word_tokenize(review))\n",
    "    review_len.append(num_words)\n",
    "\n",
    "#make a histogram of the distribution of the review length\n",
    "sns.set(rc={'figure.figsize':(11.7,8.27)})\n",
    "sns.distplot(review_len, kde = False)\n",
    "sns.despine()\n",
    "plt.ylabel('Count (numer of reviews)')\n",
    "plt.xlabel('Number of words')\n",
    "plt.title('Distribution of review length')\n",
    "plt.savefig('histogram.png')\n",
    "\n",
    "print('Longest review: {} words'.format(max(review_len)))\n",
    "print('Shortest review: {} words'.format(min(review_len)))\n",
    "print('Mean review: {} words'.format(round(np.mean(review_len), 1)))\n",
    "print('Median review: {} words'.format(np.median(review_len)))"
   ]
  },
  {
   "cell_type": "code",
   "execution_count": 7,
   "metadata": {},
   "outputs": [
    {
     "name": "stdout",
     "output_type": "stream",
     "text": [
      "Number of distinct doctors: 4223\n"
     ]
    }
   ],
   "source": [
    "#count of distinct doctors in the corpus\n",
    "doctors = []\n",
    "for x in dr_list:\n",
    "    doctors.append(x[0][0].strip())\n",
    "doctors = list(set(doctors))\n",
    "print('Number of distinct doctors: {}'.format(len(doctors)))"
   ]
  },
  {
   "cell_type": "code",
   "execution_count": null,
   "metadata": {},
   "outputs": [],
   "source": []
  }
 ],
 "metadata": {
  "kernelspec": {
   "display_name": "Python 3",
   "language": "python",
   "name": "python3"
  },
  "language_info": {
   "codemirror_mode": {
    "name": "ipython",
    "version": 3
   },
   "file_extension": ".py",
   "mimetype": "text/x-python",
   "name": "python",
   "nbconvert_exporter": "python",
   "pygments_lexer": "ipython3",
   "version": "3.6.4"
  }
 },
 "nbformat": 4,
 "nbformat_minor": 2
}
